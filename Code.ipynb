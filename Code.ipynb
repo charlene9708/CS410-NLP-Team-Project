{
  "nbformat": 4,
  "nbformat_minor": 0,
  "metadata": {
    "colab": {
      "provenance": [],
      "toc_visible": true
    },
    "kernelspec": {
      "name": "python3",
      "display_name": "Python 3"
    },
    "language_info": {
      "name": "python"
    }
  },
  "cells": [
    {
      "cell_type": "markdown",
      "source": [
        "# Data Preprocessing"
      ],
      "metadata": {
        "id": "Ezkj9HQoOb8V"
      }
    },
    {
      "cell_type": "code",
      "source": [
        "# Mount Google Drive\n",
        "from google.colab import drive\n",
        "drive.mount(\"/content/drive\")"
      ],
      "metadata": {
        "colab": {
          "base_uri": "https://localhost:8080/"
        },
        "id": "d_x6B7Fx8MkQ",
        "outputId": "e4a9fca1-f55a-49b2-c0fe-a6a4e00571b4"
      },
      "execution_count": null,
      "outputs": [
        {
          "output_type": "stream",
          "name": "stdout",
          "text": [
            "Mounted at /content/drive\n"
          ]
        }
      ]
    },
    {
      "cell_type": "code",
      "source": [
        "# Install required pkg\n",
        "! pip install kaggle --quiet"
      ],
      "metadata": {
        "id": "W8cyzBTEF2O8"
      },
      "execution_count": null,
      "outputs": []
    },
    {
      "cell_type": "code",
      "source": [
        "# config kaggle API\n",
        "kaggle_api_path = \"/content/drive/MyDrive/410_project/kaggle.json\"\n",
        "\n",
        "! mkdir ~/.kaggle\n",
        "! cp $kaggle_api_path ~/.kaggle/\n",
        "\n",
        "# change file permissions\n",
        "! chmod 600 ~/.kaggle/kaggle.json"
      ],
      "metadata": {
        "id": "QUpUwIo8poSR"
      },
      "execution_count": null,
      "outputs": []
    },
    {
      "cell_type": "code",
      "source": [
        "# Download dataset\n",
        "competition_name = \"jigsaw-toxic-comment-classification-challenge\"\n",
        "! kaggle competitions download -c {competition_name}\n",
        "\n",
        "! mkdir kaggle_data\n",
        "! unzip {competition_name + \".zip\"} -d kaggle_data\n",
        "\n",
        "# Unmount Google Drive\n",
        "drive.flush_and_unmount()"
      ],
      "metadata": {
        "id": "niMrJAkEFCI8"
      },
      "execution_count": null,
      "outputs": []
    },
    {
      "cell_type": "code",
      "source": [
        "!pip install pandas --quiet"
      ],
      "metadata": {
        "id": "AZorm8ahFQjy"
      },
      "execution_count": null,
      "outputs": []
    },
    {
      "cell_type": "markdown",
      "source": [
        "### Temporarily get random 10,000 instances for training, 1,000 for validation, and 1,000 for testing.\n",
        "For convenience during the exploring stage\n"
      ],
      "metadata": {
        "id": "CXIjBDN1LfSk"
      }
    },
    {
      "cell_type": "code",
      "source": [
        "from cgi import test\n",
        "# Demo few rows of dataset\n",
        "import pandas as pd\n",
        "\n",
        "train_df = pd.read_csv('/content/kaggle_data/train.csv.zip')\n",
        "train_df = train_df.sample(frac=1).reset_index(drop=True) #shuffle\n",
        "train_df = train_df.sample(n=10000)\n",
        "\n",
        "df = pd.read_csv('/content/kaggle_data/test.csv.zip')\n",
        "df = df.sample(frac=1).reset_index(drop=True) #shuffle\n",
        "val_df = df.sample(n=1000)\n",
        "\n",
        "test_df = df.drop(val_df.index).sample(n=1000) #drop the val data and get 1000\n",
        "\n",
        "# Reset the index for all df\n",
        "train_df.reset_index(drop=True, inplace=True)\n",
        "val_df.reset_index(drop=True, inplace=True)\n",
        "test_df.reset_index(drop=True, inplace=True)"
      ],
      "metadata": {
        "id": "G-Gj2fYhGt4e"
      },
      "execution_count": null,
      "outputs": []
    },
    {
      "cell_type": "markdown",
      "source": [
        "# Feature Engineering"
      ],
      "metadata": {
        "id": "pl8ifS51Ok9P"
      }
    },
    {
      "cell_type": "markdown",
      "source": [
        "## NLTK's word_tokenize\n",
        "Usually good for basic NLP tasks"
      ],
      "metadata": {
        "id": "jP5vnlkBJr5h"
      }
    },
    {
      "cell_type": "code",
      "source": [
        "!pip install nltk --quiet"
      ],
      "metadata": {
        "id": "cYKuRgC0Mm-l"
      },
      "execution_count": null,
      "outputs": []
    },
    {
      "cell_type": "code",
      "source": [
        "# cleaning\n",
        "import re\n",
        "def preprocess_and_tokenize(data):\n",
        "    #convert to lowercase\n",
        "    data = data.lower()\n",
        "    #remove non-word characters (excluding spaces)\n",
        "    data = re.sub(r\"[^\\w\\s]\", \"\", data)\n",
        "    #tokenize using nltk\n",
        "    tokens = word_tokenize(data)\n",
        "    return tokens"
      ],
      "metadata": {
        "id": "GvYfte94jSee"
      },
      "execution_count": null,
      "outputs": []
    },
    {
      "cell_type": "code",
      "source": [
        "import nltk\n",
        "nltk.download('punkt')\n",
        "from nltk.tokenize import word_tokenize\n",
        "\n",
        "def nltk_tok(data):\n",
        "  return word_tokenize(data)\n",
        "train_df['tokenized'] = train_df['comment_text'].apply(preprocess_and_tokenize)\n",
        "print(train_df[['comment_text', 'tokenized']].head())\n"
      ],
      "metadata": {
        "id": "DPoGNWRHJ6bO",
        "colab": {
          "base_uri": "https://localhost:8080/"
        },
        "outputId": "c6e566cc-e6b9-4e87-b0d3-bb8ca4287073"
      },
      "execution_count": null,
      "outputs": [
        {
          "output_type": "stream",
          "name": "stderr",
          "text": [
            "[nltk_data] Downloading package punkt to /root/nltk_data...\n",
            "[nltk_data]   Unzipping tokenizers/punkt.zip.\n"
          ]
        },
        {
          "output_type": "stream",
          "name": "stdout",
          "text": [
            "                                        comment_text  \\\n",
            "0  Will do so.\\nAnd someone really needs to write...   \n",
            "1  Please do not delete the speedy deletion tag -...   \n",
            "2  \"\\n, that's a compliment I had never gotten be...   \n",
            "3  I've found a public domain (primary) source fo...   \n",
            "4  Official link? \\n\\nIs http://www.azhar.edu.eg/...   \n",
            "\n",
            "                                           tokenized  \n",
            "0  [will, do, so, and, someone, really, needs, to...  \n",
            "1  [please, do, not, delete, the, speedy, deletio...  \n",
            "2  [thats, a, compliment, i, had, never, gotten, ...  \n",
            "3  [ive, found, a, public, domain, primary, sourc...  \n",
            "4  [official, link, is, httpwwwazharedueg, its, o...  \n"
          ]
        }
      ]
    },
    {
      "cell_type": "markdown",
      "source": [
        "## TF-IDF"
      ],
      "metadata": {
        "id": "LdtHtI2IOPZZ"
      }
    },
    {
      "cell_type": "code",
      "source": [
        "from sklearn.feature_extraction.text import TfidfVectorizer\n",
        "\n",
        "train_df = train_df.head(100)\n",
        "\n",
        "train_df['tokenized_str'] = train_df['tokenized'].apply(lambda tokens: ' '.join(tokens))\n",
        "\n",
        "tfidf_vectorizer = TfidfVectorizer()\n",
        "tfidf_matrix = tfidf_vectorizer.fit_transform(train_df['tokenized_str'])\n",
        "\n",
        "tfidf_df = pd.DataFrame(tfidf_matrix.toarray(), columns=tfidf_vectorizer.get_feature_names_out())\n",
        "\n",
        "result_df = pd.concat([train_df[['comment_text', 'tokenized', 'tokenized_str']], tfidf_df], axis=1)\n",
        "\n",
        "print(result_df[['tokenized_str'] + list(tfidf_df.columns)][:1])\n"
      ],
      "metadata": {
        "id": "hGQLAHw-OPhm",
        "colab": {
          "base_uri": "https://localhost:8080/"
        },
        "outputId": "ed0eae2a-7581-472a-ddce-432ffe64a6c9"
      },
      "execution_count": null,
      "outputs": [
        {
          "output_type": "stream",
          "name": "stderr",
          "text": [
            "<ipython-input-10-c9252a5dcce2>:5: SettingWithCopyWarning: \n",
            "A value is trying to be set on a copy of a slice from a DataFrame.\n",
            "Try using .loc[row_indexer,col_indexer] = value instead\n",
            "\n",
            "See the caveats in the documentation: https://pandas.pydata.org/pandas-docs/stable/user_guide/indexing.html#returning-a-view-versus-a-copy\n",
            "  train_df['tokenized_str'] = train_df['tokenized'].apply(lambda tokens: ' '.join(tokens))\n"
          ]
        },
        {
          "output_type": "stream",
          "name": "stdout",
          "text": [
            "                                       tokenized_str   10  100  100riserun  \\\n",
            "0  will do so and someone really needs to write s...  0.0  0.0         0.0   \n",
            "\n",
            "   108jpg  1133   12  128  142162190217  1477024254  ...  youre  yours  \\\n",
            "0     0.0   0.0  0.0  0.0           0.0         0.0  ...    0.0    0.0   \n",
            "\n",
            "   yourself  youve  ytterbium  yttrium  zealand  zero0000  zinc  zirconium  \n",
            "0       0.0    0.0        0.0      0.0      0.0       0.0   0.0        0.0  \n",
            "\n",
            "[1 rows x 1856 columns]\n"
          ]
        }
      ]
    },
    {
      "cell_type": "markdown",
      "source": [
        "## Word Embedding"
      ],
      "metadata": {
        "id": "n1jr2-GcOsPg"
      }
    },
    {
      "cell_type": "code",
      "source": [
        "from gensim.models import Word2Vec\n",
        "import numpy as np\n",
        "from sklearn.manifold import TSNE\n",
        "import matplotlib.pyplot as plt"
      ],
      "metadata": {
        "id": "nnJXi7WlgGOL"
      },
      "execution_count": null,
      "outputs": []
    },
    {
      "cell_type": "code",
      "source": [
        "# Function to get the vector representation for a document\n",
        "def get_vector(tokens):\n",
        "    vectors = [model.wv[token] for token in tokens if token in model.wv]\n",
        "    return np.mean(vectors, axis=0) if vectors else np.zeros(model.vector_size)"
      ],
      "metadata": {
        "id": "qwssVzrCgD7D"
      },
      "execution_count": null,
      "outputs": []
    },
    {
      "cell_type": "code",
      "source": [
        "model = Word2Vec(sentences=train_df['tokenized'], vector_size=100, window=5, min_count=1, workers=4)\n",
        "\n",
        "#apply the function to each row to get the vector representation for each document\n",
        "train_df['word2vec'] = train_df['tokenized'].apply(get_vector)\n",
        "\n",
        "#convert the 'word2vec' column to a DataFrame with separate columns for each dimension\n",
        "word2vec_df = pd.DataFrame(train_df['word2vec'].to_list(), columns=[f'word2vec_{i}' for i in range(model.vector_size)])\n",
        "\n",
        "#concatenate the original dataframe and the Word2Vec dataframe\n",
        "result_df = pd.concat([train_df[['comment_text', 'tokenized', 'tokenized_str']], word2vec_df], axis=1)\n",
        "\n",
        "print(result_df[['tokenized_str'] + list(word2vec_df.columns)][:1])\n",
        "\n",
        "#List of words you want to compare for testing\n",
        "words_for_viz = ['you', 'very', 'removed','remove']\n",
        "\n",
        "vectors_for_viz = np.array([model.wv[word] for word in words_for_viz])\n",
        "\n",
        "tsne = TSNE(n_components=2, random_state=42, perplexity=len(words_for_viz)-1)  # Adjust the perplexity value\n",
        "vectors_2d = tsne.fit_transform(vectors_for_viz)\n",
        "\n",
        "plt.figure(figsize=(8, 8))\n",
        "plt.scatter(vectors_2d[:, 0], vectors_2d[:, 1], c='b', marker='o')\n",
        "for i, word in enumerate(words_for_viz):\n",
        "    plt.annotate(word, (vectors_2d[i, 0], vectors_2d[i, 1]))\n",
        "\n",
        "plt.show()"
      ],
      "metadata": {
        "id": "QzdrpXZvOtoY",
        "colab": {
          "base_uri": "https://localhost:8080/",
          "height": 954
        },
        "outputId": "f1fcc78d-b146-4b1f-d9e8-a9725cefc971"
      },
      "execution_count": null,
      "outputs": [
        {
          "output_type": "stream",
          "name": "stdout",
          "text": [
            "                                       tokenized_str  word2vec_0  word2vec_1  \\\n",
            "0  will do so and someone really needs to write s...   -0.005444    0.005615   \n",
            "\n",
            "   word2vec_2  word2vec_3  word2vec_4  word2vec_5  word2vec_6  word2vec_7  \\\n",
            "0   -0.001542   -0.000145    0.002744   -0.008284    0.001277    0.012182   \n",
            "\n",
            "   word2vec_8  ...  word2vec_90  word2vec_91  word2vec_92  word2vec_93  \\\n",
            "0   -0.007525  ...     0.005411     0.002878     0.004517     0.000489   \n",
            "\n",
            "   word2vec_94  word2vec_95  word2vec_96  word2vec_97  word2vec_98  \\\n",
            "0     0.010688     0.005719     0.004683    -0.005347     0.001659   \n",
            "\n",
            "   word2vec_99  \n",
            "0    -0.000586  \n",
            "\n",
            "[1 rows x 101 columns]\n"
          ]
        },
        {
          "output_type": "display_data",
          "data": {
            "text/plain": [
              "<Figure size 800x800 with 1 Axes>"
            ],
            "image/png": "[encoded data removed]"
          },
          "metadata": {}
        }
      ]
    },
    {
      "cell_type": "code",
      "source": [
        "print(\"Vocabulary size:\", len(model.wv))\n",
        "print(\"Vocabulary:\", model.wv.index_to_key)\n"
      ],
      "metadata": {
        "colab": {
          "base_uri": "https://localhost:8080/"
        },
        "id": "6OeGzE5hdyKq",
        "outputId": "a24fafb4-27c9-4c59-9403-29e4bcbc8789"
      },
      "execution_count": null,
      "outputs": [
        {
          "output_type": "stream",
          "name": "stdout",
          "text": [
            "Vocabulary size: 1872\n",
            "Vocabulary: ['the', 'to', 'and', 'a', 'of', 'is', 'you', 'i', 'in', 'for', 'that', 'it', 'this', 'on', 'not', 'if', 'be', 'as', 'your', 'have', 'are', 'an', 'page', 'article', 'its', 'no', 'with', 'from', 'but', 'about', 'wikipedia', 'then', 'or', 'talk', 'at', 'what', 'do', 'by', 'so', 'please', 'there', 'some', 'which', 'can', 'one', 'other', 'should', 'was', 'they', 'edit', 'will', 'has', 'we', 'like', 'use', 'my', 'articles', 'may', 'who', 'even', 'me', 'all', 'did', 'deletion', 'just', 'need', 'source', 'edits', 'know', 'been', 'their', 'dont', 'being', 'only', 'out', 'why', 'would', 'these', 'sources', 'information', 'any', 'ive', 'copyright', 'current', 'people', 'them', 'he', 'think', 'used', 'made', 'were', 'see', 'how', 'editing', 'when', 'perhaps', 'notable', 'under', 'help', 'im', 'find', 'ask', 'because', 'drivers', 'also', 'section', 'said', 'infobox', 'deleted', 'again', 'vandalism', 'time', 'now', 'before', 'tag', 'where', 'his', 'hi', 'speedy', 'really', 'place', 'after', 'back', 'link', 'doesnt', 'pages', 'explain', 'without', 'get', 'than', 'far', 'make', 'thank', 'could', 'someone', 'well', 'over', 'using', 'here', 'put', 'does', 'good', 'field', 'discussion', 'try', 'want', 'ill', 'tell', 'content', 'wrc', 'way', 'first', 'another', 'removed', 'most', 'check', 'still', 'editors', 'sites', 'anything', 'listed', 'ip', 'stop', 'off', 'once', 'read', 'add', 'different', 'maybe', 'message', 'up', 'history', 'world', 'done', 'welcome', 'better', 'greek', 'note', 'criteria', 'into', 'thanks', 'etc', 'interested', 'consider', 'username', 'website', 'going', 'opinion', 'am', 'reference', 'real', 'title', 'band', 'life', 'tags', 'especially', 'might', 'uploaded', 'had', 'often', 'both', 'user', 'sorry', 'term', 'web', 'game', 'many', 'question', 'additional', 'lancashire', 'point', 'say', 'reverted', 'example', 'bc', 'two', 'rally', 'already', 'language', 'wikipedias', 'support', 'questions', 'believe', 'those', 'new', 'guidelines', 'actually', 'answer', 'g', 'h2so4', 'blocked', 'keep', 'hope', 'media', 'day', 'explanation', 'points', 'cyprus', 'files', 'offers', 'nice', 'though', 'move', 'entry', 'topic', 'helpful', 'file', 'teams', 'start', 'none', 'hopefully', 'problem', 'l', 'unclear', 'east', 'while', 'let', 'large', 'same', 'police', 'description', 'quite', 'placed', 'own', 'old', 'reverting', 'encyclopedia', 'less', 'given', 'part', 'instead', 'reaction', 'statement', 'doubt', 'warning', 'show', 'admin', 'okay', 'changes', 'isnt', 'much', 'shouldnt', 'attacked', 'general', 'form', 'mlb', 'go', 's', 'since', 'solid', 'text', 'official', 'standard', 'each', 'needs', 'bolton', 'seem', 'rock', 'facts', 'found', 'give', 'overlap', 'created', 'driver', 'write', 'four', 'iodine', 'clear', 'notability', 'tagged', 'such', 'too', 'rallies', 'appropriate', 'citations', 'yet', 'rather', 'redirect', 'allowed', 'mention', 'material', 'image', 'yourself', 'cover', 'khatris', 'evil', 'says', 'dialect', 'subject', 'name', 'else', 'fault', 'although', 'recent', 'killed', 'sign', 'something', 'adding', 'long', 'sure', 'getting', 'hitler', 'times', 'around', 'summary', 'more', 'post', 'mean', 'terms', 'groups', 'between', 'today', 'version', 'ancient', 'call', 'themselves', 'come', 'matter', 'fact', 'greater', 'doing', 'regarding', 'codriver', 'deep', 'championship', 'state', 'metalcore', 'majority', 'later', 'christian', 'template', 'discussing', 'nothing', 'india', 'calling', 'arent', 'youre', 'erc', 'irc', '30', 'interesting', 'states', 'unless', 'either', 'project', 'references', 'god', 'abusive', 'books', 'united', 'related', 'peacock', 'orange', 'insert', 'nai', 'sodium', 'helpme', 'through', 'wikipediaquestions', 'damn', 'automatically', 'missing', 'tutorial', 'small', 'pillars', 'five', 'summaries', 'previous', 'main', 'changing', 'original', 'formatting', 'didnt', 'characters', 'situation', 'sulphur', 'anyway', 'leave', 'pick', 'struck', 'damm', '273', 'carefully', 'love', 'deads', 'next', 'sentence', 'english', 'hear', 'noticed', 'thomas', 'view', 'personal', 'words', 'position', 'suffice', 'malleus', 'always', 'fine', 'anime', 'links', 'beginning', 'below', 'alternative', 'sandbox', 'conflict', 'expert', 'lead', 'making', 'test', 'punctuation', 'sovereignty', 'island', 'contribute', 'free', 'manga', 'quick', 'reminder', 'line', 'log', 'include', 'open', 'right', 'uk', 'address', 'hello', 'reasoning', 'established', 'republic', 'goes', 'doc', 'requesting', 'theres', 'week', 'specify', 'remove', 'misleading', 'status', 'grades', 'warnings', '9', 'grade', 'very', 'wont', 'anymore', 'catch', 'naughty', 'taken', 'together', 'style', 'websites', 'numbers', 'info', 'board', 'albans', 'neopets', 'significant', 'discussed', 'jews', 'site', 'person', 'workaholic', 'social', 'relevance', 'somewhere', 'take', 'imagehaleandpacecatjpg', 'logic', 'harpenden', 'looking', 'important', 'st', 'suggest', 'races', '100', 'live', 'rest', 'speak', 'meets', 'analysis', 'factual', 'inc', 'nor', 'wikipediafair', 'ham', 'wikipediaimage', 'assume', 'kind', 'avoid', 'full', 'list', 'educate', 'century', 'death', 'nations', 'dalai', 'assert', 'lama', 'our', 'duty', 'change', 'evidence', 'claim', 'every', 'king', 'become', 'proper', 'macedonian', 'top', 'subjects', 'saying', 'picture', 'others', 'services', 'statements', 'bad', '3rd', 'repeat', 'comments', 'innocent', 'reports', 'years', 'germany', 'understand', 'express', 'abuse', 'filemadampi', 'rules', 'career', 'mish', '108jpg', 'further', 'won', 'simple', 'lie', '5', 'record', 'act', 'music', 'caught', 'editor', 'wish', 'obscure', 'us', 'dispute', 'continue', 'shortly', 'started', 'agenda', 'clearly', 'desk', 'report', 'consensus', 'offer', 'peace', 'october', 'linked', 'utc', '2006', 'major', 'having', 'users', 'above', 'famous', 'exist', 'posts', 'culture', 'mix', 'games', 'martyrs', 'neutral', 'assyrian', 'based', 'knowledge', 'contributions', 'ok', 'rampant', 'mash', 'importance', 'necessary', 'tomorrow', 'domain', 'bias', 'opinions', 'lack', 'individual', 'propagandists', 'smith', 'refering', 'checking', 'specified', 'throwback', 'v', 'lets', 'addicted', 'sixties', 'protesting', 'drug', 'examined', 'unfairly', 'hours', '48', 'defense', 'complied', 'per', 'officer', 'license', 'employee', 'nonfree', 'case', 'unbiased', 'looks', 'bookstore', 'copyrighted', 'party', 'described', 'die', 'untagged', 'officers', 'unsourced', 'wannabee', 'following', 'authoror', 'images', 'spread', 'cry', 'seconds', 'hyperly', 'yankees', 'work', 'horriblebad', 'foundation', 'tired', 'bye', 'rockthe', 'talkhebephiliakaren', 'franklin', 'alternativehard', 'rockmetal', 'metalgothic', 'weighing', 'himthey', 'genre', 'german', 'cynical', 'wikimedia', 'relationship', 'worldwide', 'creator', 'concept', 'friends', 'chores', 'strangers', 'via', 'boring', 'elsewise', 'establish', 'humourous', 'activity', 'fun', 'minneapolis', 'userzanimum', 'id', 'outside', 'mars', 'placeboradioheadbush30', 'youve', 'documents', 'holder', 'publisher', 'acknowledged', 'friendly', 'licensing', 'wanted', 'createdtook', 'paine', 'audio', 'video', 'tinacfle', 'release', 'gfdl', 'ban', 'tagsfair', 'dress', 'shirt', 'however', 'saving', 'sufficient', 'uploading', 'protocolsuser1298555181', 'ignorant', 'liberally', 'apologize', 'drwinterbergs', 'require', 'unspecified', 'currently', 'restatement', 'oneword', 'focus', 'appear', 'browsing', 'create', 'owner', 'obtained', 'usually', 'punjabi', 'repaired', 'archiving', 'ruin', 'anyone', 'end', 'cheers', 'yes', 'niceleave', 'permissible', 'pattern', 'deceitful', 'indications', 'displaying', 'archives', 'patient', 'side', 'personpersons', 'judging', 'eye', 'httpenwikiquoteorgwikimacedonia', 'greece', 'almost', 'single', 'yours', 'refuted', 'refute', 'shared', 'kids', 'encompasses', 'entire', 'peel', 'schools', 'sad', 'few', 'ongoing', 'concerning', 'wikipediaremoving', 'strike', 'idea', 'whats', 'causing', 't', 'c', '2248', 'added', 'e', 'institution', 'reliable', 'plain', 'enough', 'propowned', 'sensationalist', 'february', '19', 'officials', 'cup', 'cricket', 'talk2015', '142162190217', 'obviously', 'nns', 'undos', 'lazy', 'effortless', 'wrestling', 'professional', 'promo', 'touch', 'dare', 'lower', 'mixed', 'village', 'carry', 'primary', 'epirus', 'mythologytemp', 'acceptable', 'httpwwwazharedueg', 'edueg', 'authority', 'redirects', 'titleroger_joseph_boscovichdiffprevoldid169475630', 'tens', 'rv', 'immediately', 'written', 'moderator', 'public', 'p', 'gotten', 'never', 'compliment', 'thats', 'reported', 'breach', 'delete', 'sweden', 'effect', 'lasting', 'hultsfred', 'breaking', 'artists', 'gigs', 'festival', 'acted', 'wizzywig', 'balkaneuropean', 'supposedly', 'purposely', 'httpenwikipediaorgwikipella_curse_tablet', 'faith', 'toohttpenwikiquoteorgwikimacedonia', 'alexander', 'macedonians', 'managed', 'literally', 'learn', 'nationalism', 'greeks', 'mixings', 'mixedrace', 'brazilians', 'tablet', 'curse', 'pella', 'contrary', 'noone', 'dialects', 'claims', 'mentioned', 'offence', 'perception', 'historical', 'abortions', 'gee', 'em', 'oh', 'glen', 'useless', 'newspaper', 'blatant', 'ignorance', 'listing', 'benefits', 'identify', 'newcomers', 'contents', 'guide', 'cheatsheet', 'commands', 'duplicate', 'produce', 'timestamp', 'wikipediamosquote', 'quotation', 'facsimile', 'cases', 'requires', 'account', 'creating', 'confusion', 'manner', 'constructive', 'future', 'athenian20democracy', 'unhelpful', '2010', 'september', 'gah', 'pissed', 'attacking', 'randomly', 'perfectly', 'wrong', 'desirable', 'purely', 'christ', 'additions', 'vandal', 'left', 'sephiroth', 'bcr', 'angry', 'havent', 'works', 'typographical', 'loads', 'color', 'cds', 'historically', 'active', 'hold', 'archivingp', 'auto', 'part3', 'hina', '201215187159', 'aloud', 'difference', 'alterations', 'publishers', 'among', 'universal', 'practice', 'comment', 'conventions', 'adapted', 'quoted', 'elements', 'hell', 'nowhere', 'difficult', 'bengal', 'format', 'curious', 'disparate', 'seeks', 'peshawar', 'nadia', 'south', 'juxtaposed', 'peninsular', 'restructured', 'provinces', 'pakistan', 'creation', 'separate', 'anthønytalk', 'incident', 'little', 'across', 'stumble', 'ncmvocalist', 'appropraite', 'incorporate', 'location', 'queensland', 'hows', 'consolation', 'swarm', 'things', 'perceived', 'actual', 'focusing', 'overwhelming', 'pertaining', 'idly', 'restraints', 'couldnt', 'expand', 'third', 'fourth', 'episodes', 'due', 'pics', 'region', 'truth', 'polite', 'dick', 'mince', 'pretend', 'sit', 'button', 'preview', 'experiment', 'privileges', 'blocking', 'policy', 'considered', 'exploration', 'experienced', 'addition', 'course', 'granth', 'dasam', 'smriti', 'manu', 'absurd', 'attach', 'reviewed', 'aka', 'unjust', 'roman', 'reading', 'myself', 'wondering', 'calculated', 'table', 'merely', 'road', 'must', 'least', 'clearer', 'simply', '100riserun', 'common', 'certainly', 'northern', 'alberta', 'percentages', '12', 'religious', 'assembled', 'assisi', 'italy', '1986', 'accurate', 'eyes', 'legs', 'city', 'nominate', 'talkdgg', 'presume', 'glitch', 'restore', 'amount', 'wth', 'slightly', 'flowery', 'town', 'district', 'arms', 'hertfordshire', 'england', 'lies', 'a1081', 'luton', 'smelled', 'cockroaches', 'rats', 'sewage', 'system', 'request', 'catholic', 'entymology', 'pope', 'incense', 'burners', '3', 'june', 'utchganesan', 'btw', 'redundant', 'win', 'backtoback', 'mvps', '0', 'titles', 'careers', '2117', 'edited', 'putting', 'figures', 'replacing', 'unattributed', 'quote', 'surgeon', 'generals', 'ect', 'scrolls', 'prayer', 'setting', 'york', 'john', 'paul', 'ii', 'tenzin', 'gyatso', 'recognized', '14th', 'tibetan', 'buddhism', 'according', 'buddhist', 'tabernacle', 'leader', 'converted', 'altar', 'church', 'san', 'pietro', 'placing', 'statue', 'buddha', 'atop', 'deictionary', 'medical', 'haste', 'rewrite', 'watch', 'interest', 'updates', 'chat', 'mans', 'jay', 'windleys', 'accetable', 'provided', 'videos', 'liar', '911453853', 'harm', 'letting', 'run', '7', 'days', 'weather', 'cold', 'snowing', 'retention', 'rejected', 'myth', 'medaltemplates', 'seeing', 'comparable', 'generated', 'wtrally', 'updated', 'look', 'suggestions', 'reason', 'fullname', 'fields', 'choose', 'options', 'codrivers', 'racesnumber', 'length', 'ralliesnumber', 'depreciated', 'preferred', 'output', 'sebastien', 'loeb', '1133', 'care', 'season', 'total', 'several', 'player', 'treated', 'particulary', 'chaldeans', 'syriacs', 'rationale', 'share', 'politicized', 'survey', 'oppose', 'followed', 'optional', 'onesentence', 'unsigned', 'expected', 'sockpuppets', 'proposed', 'formerly', 'rubbish', 'inaccurately', 'describe', 'energetic', 'japan', 'portrayed', 'basis', 'colloquialslang', 'assyrians', 'arameans', 'requested', '6', 'nonsense', 'reads', 'bit', 'weasily', 'foot', 'attack', 'particularly', 'stated', 'battle', 'changed', 'type', 'wording', 'western', 'powers', 'along', 'lines', 'fuck', 'confessions', 'produced', 'torture', 'implication', 'leaving', 'follow', 'australia', 'zealand', 'realistic', 'lacks', 'thousands', 'high', 'schooler', 'devolve', 'factoids', 'rhetoric', 'expertise', 'depth', 'submit', 'patent', 'pack', 'psychology', 'informational', 'riot', 'jimbo', 'wales', 'guy', 'formal', 'randian', 'environment', 'controls', 'chaos', 'conspicuously', 'mostly', 'known', 'unfairness', 'tc', 'member', 'antineopiancom', 'antisites', 'refered', 'gathering', 'hate', 'somewhat', 'inaccurate', 'inform', 'insignificant', 'exists', 'plenty', 'host', 'big', 'political', 'groupthink', 'civilization', 'battleground', 'propaganda', 'warfare', 'lawless', 'vectors', 'functional', 'canada', 'methodology', 'prole', 'fully', 'intact', 'luck', 'science', 'sciences', 'fix', 'potcwikicom', 'httpwwwdisneysonlineworldscomindexphppotco', 'assumed', 'httpwwwpiratesonlineforumscom', '3rr', 'journalism', 'scandals', 'routine', 'jmcnamera', 'prior', 'highly', 'pov', 'pretense', 'genuine', 'attempt', 'actions', 'admins', 'education', 'required', 'headless', 'dealing', 'order', 'graphic', 'box', 'funny', 'tried', 'got', 'result', 'abusiveness', 'organization', 'fifty', 'hominems', 'places', 'problems', 'solve', 'nose', 'air', 'pretending', 'legitamate', 'participant', 'baited', 'ad', 'straightening', 'resources', 'diverted', 'reply', 'standardising', 'probably', 'antaeus', 'feldspar', 'reverts', 'deleting', '2333', '21', '2005', 'string', 'examples', 'similar', 'function', 'spanish', 'preterite', 'happens', 'romanian', 'languages', 'chiefly', 'pmanderson', 'regardless', 'stratification', 'lns', 'onto', 'discussions', 'outcome', 'border', 'countries', 'qualify', 'assessments', 'giving', 'advice', 'breath', 'intro', 'identified', 'phrase', 'london', 'showed', 'substantially', 'boundary', 'contested', 'footnote', 'clarified', 'diaspora', 'justify', 'victoria', 'west', 'struggle', 'justification', 'logs', 'phd', 'student', 'dismay', 'feel', 'vandalize', 'aquinas', 'oy', 'vey', 'underestimate', 'wpdenseity', 'tone', 'voice', 'suprise', 'seemed', 'bands', 'character', 'thinking', 'disk', 'space', 'checked', 'lowuse', 'bot', 'tiny', 'aside', 'graceful', 'companies', 'biographies', 'complex', 'accepted', 'loge', 'speedily', 'appears', 'group', 'club', 'company', 'indicate', 'included', 'significance', 'generally', 'contest', 'types', 'existing', 'db', 'coupled', 'explaining', 'aware', 'criterion', 'delay', 'hesitate', 'confirm', 'specific', 'saw', 'pelmeen', 'dhi', 'belong', 'wildside', 'belated', 'respond', 'international', 'meeting', 'accreditation', 'trnc', 'delegates', 'writing', 'unnecessary', 'refer', 'sovereign', 'territories', 'called', 'british', 'bases', 'customs', 'administration', 'last', 'whipping', 'brains', 'split', 'proxies', 'johnny', 'talkdr', 'rating', 'values', 'mistakes', 'false', 'coming', 'higher', 'discuss', 'trivandrum', 'central', 'appeared', 'portaltrains', 'url', 'trhat', 'scepticism', 'noticing', 'wikipolicies', 'wikinazi', 'likes', 'personnel', 'enjoyment', 'wonder', 'bathroom', '2092122850', 'rational', 'banned', 'students', 'abolished', 'university', 'kindly', 'misquote', 'entirely', 'improvement', 'failed', 'wppeacock', 'userwildhartlivie', 'restored', 'offending', 'reremoved', 'resolved', 'indeed', 'resolve', 'issue', 'bar', 'reintroducing', 'suitable', 'modified', 'conformed', 'dot', 'apart', 'involved', 'removing', 'possible', 'talks', 'refers', 'wikipedian', 'evansville', 'computing', 'department', 'fixing', 'proxy', 'decide', 'stay', 'great', 'manual', 'enjoy', 'messages', 'starting', 'tildes', 'date', 'red', 'pen', 'doom', 'three', 'inserted', 'hrw', 'memorial', '300400', 'reputation', 'reknown', 'mondoweiss', 'arguing', 'thre', '128', 'row', 'ur', 'fictional', 'disgusting', 'stories', 'born', 'lived', 'cock', 'telling', 'sheffield', 're', 'yorkshire', 'told', 'manchester', 'egerton', 'ring', 'constabulary', 'fire', 'rescue', 'manchesterit', 'lancashirebesides', 'waiting', 'ladies', 'sexy', 'huldra', 'providing', 'poorly', 'gardner', 'mainstream', 'proof', 'judeophobic', 'systemic', 'farleft', 'antisemitic', 'gouncbeatduke', 'iriszoom', '2000', 'nishidani', 'zero0000', 'defame', 'harass', 'hihi', 'during', 'honolulu', 'u', 'tht', 'hawaiihas', 'mancheser', 'irish', 'government', 'smaller', 'agree', 'dubious', 'cant', 'base', 'merits', 'played', 'hs', 'softball', 'vs', 'number', 'sampling', 'elsewhere', '10', 'july', '2007', 'altered', 'wikipediafiles', 'search', 'disruptive', 'continues', 'andemu', 'dilettantes', 'wikilink', 'lebanon', 'send', 'union', 'condolence', 'suppose', 'precedence', 'sort', 'thing', 'recommend', 'taking', 'gander', 'firstmark', 'credit', 'locations', 'arabia', 'bottom', '1477024254', 'headed', 'mediation', 'suspect', 'instance', '500000', 'palestinians', 'residing', 'saudi', 'reallycan', 'against', 'driversandbox', 'if7', 'ununbium', 'ununhexium', 'ununquadium', 'uranium', 'vanadium', 'xenon', 'ytterbium', 'yttrium', 'zinc', 'zirconium', 'adjacent', 'se', 'br', 'kr', 'te', 'xe', 'po', 'rn', 'compounds', 'select', 'formula', 'fluorides', 'if3', 'tungsten', 'titanium', 'tin', 'seaborgium', 'radium', 'radon', 'rhenium', 'rhodium', 'roentgenium', 'rubidium', 'ruthenium', 'rutherfordium', 'samarium', 'scandium', 'selenium', 'thulium', 'silicon', 'silver', 'strontium', 'sulfur', 'tantalum', 'technetium', 'tellurium', 'terbium', 'thallium', 'thorium', 'if5', 'chlorides', 'persons', 'icl', 'causes', 'heart', 'failure', 'conspiracy', 'theories', 'poisoning', 'present', 'objective', 'truthful', 'happened', 'warring', 'websource', 'verifiable', 'journal', 'individuals', 'vanna', 'etiquette', 'generalize', 'sound', 'clips', 'dynamics', 'exhibited', 'templateinfobox', 'natural', 'age', 'namely', 'writers', 'icl32', 'bromides', 'ibr', 'iodides', 'hydrides', 'knows', 'originated', 'classical', 'secondary', 'agatharchides', 'fgm', 'arafats', 'remains', 'trying', 'push', 'eg', 'historians', 'sticking', 'closely', 'biased', 'scant', 'likely', 'protactinium', 'promethium', 'praseodymium', 'potassium', 'element', 'switch', 'actinium', 'aluminium', 'aluminum', 'americium', 'antimony', 'argon', 'arsenic', 'astatine', 'barium', 'berkelium', 'beryllium', 'bismuth', 'bohrium', 'boron', 'bromine', 'cadmium', 'caesium', 'calcium', 'californium', 'carbon', 'cerium', 'card', 'atommate', 'buy', 'sulphuric', 'hes', 'seems', 'grandfather', 'normally', 'nonentities', 'theyre', 'pic', 'amounts', 'iodide', 'concentrated', 'acid', '2h2o', 'stage', 'formation', 'gas', 'conditions', 'oxidized', 'dioxide', 'nahso4', '2hi', 'i2', 'so2', 'cesium', 'chlorine', 'chromium', 'neptunium', 'lithium', 'lutetium', 'magnesium', 'manganese', 'meitnerium', 'mendelevium', 'mercury', 'molybdenum', 'neodymium', 'neon', 'nickel', 'lanthanum', 'niobium', 'nitrogen', 'nobelium', 'osmium', 'oxygen', 'palladium', 'phosphorus', 'platinum', 'plutonium', 'polonium', 'lawrencium', 'krypton', 'cobalt', 'francium', 'copper', 'curium', 'darmstadtium', 'dubnium', 'dysprosium', 'einsteinium', 'erbium', 'europium', 'fermium', 'fluorine', 'gadolinium', 'iron', 'gallium', 'germanium', 'gold', 'hafnium', 'hassium', 'helium', 'holmium', 'hydrogen', 'indium', 'iridium', 'branch']\n"
          ]
        }
      ]
    },
    {
      "cell_type": "markdown",
      "source": [
        "# Model"
      ],
      "metadata": {
        "id": "ByUxo9kKOyAX"
      }
    },
    {
      "cell_type": "markdown",
      "source": [
        "## Traditional models\n",
        "such as naive bayes or SVMs"
      ],
      "metadata": {
        "id": "KKZM9qmBOzbC"
      }
    },
    {
      "cell_type": "code",
      "source": [
        "# Mathworks stated that SVM works very efficiently for binary classification which is our scenario\n",
        "# We will use svm on our data and then test the model accuracy - if accuracy is low then we can try naive bayes or other classifiers like KNN\n",
        "# Prototype code below - still needs revision will be done later\n"
      ],
      "metadata": {
        "id": "ra7p9I5eOxRh"
      },
      "execution_count": null,
      "outputs": []
    },
    {
      "cell_type": "markdown",
      "source": [
        "## Deep Learning"
      ],
      "metadata": {
        "id": "6oEbmhX5PGrh"
      }
    },
    {
      "cell_type": "code",
      "source": [],
      "metadata": {
        "id": "gm281ZCdOwlL"
      },
      "execution_count": null,
      "outputs": []
    },
    {
      "cell_type": "markdown",
      "source": [
        "## Transformer + adversarial training\n",
        "Charlene Zhang (yuqianz6)"
      ],
      "metadata": {
        "id": "EiDzsnEkPKRw"
      }
    },
    {
      "cell_type": "code",
      "source": [
        "# BERT"
      ],
      "metadata": {
        "id": "ZOuvhU5xPUZ9"
      },
      "execution_count": null,
      "outputs": []
    },
    {
      "cell_type": "markdown",
      "source": [
        "# Reference"
      ],
      "metadata": {
        "id": "xVENtIey7Xv-"
      }
    },
    {
      "cell_type": "code",
      "source": [
        "https://www.mathworks.com/campaigns/offers/next/choosing-the-best-machine-learning-classification-model-and-avoiding-overfitting.html\n",
        "https://www.mathworks.com/help/stats/support-vector-machines-for-binary-classification.html"
      ],
      "metadata": {
        "id": "wDcheOnu7Y83"
      },
      "execution_count": null,
      "outputs": []
    }
  ]
}